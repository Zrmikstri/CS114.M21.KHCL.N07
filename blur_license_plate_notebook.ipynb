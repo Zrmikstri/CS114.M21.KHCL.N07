{
  "nbformat": 4,
  "nbformat_minor": 0,
  "metadata": {
    "colab": {
      "name": "test.ipynb",
      "provenance": [],
      "mount_file_id": "1YGvYsJTBjrUTwhqleSI4z4NdckizzNEs",
      "authorship_tag": "ABX9TyPLb/CM+Wc1IuLi8khfa+Qz",
      "include_colab_link": true
    },
    "kernelspec": {
      "name": "python3",
      "display_name": "Python 3"
    },
    "language_info": {
      "name": "python"
    },
    "accelerator": "GPU",
    "gpuClass": "standard"
  },
  "cells": [
    {
      "cell_type": "markdown",
      "metadata": {
        "id": "view-in-github",
        "colab_type": "text"
      },
      "source": [
        "<a href=\"https://colab.research.google.com/github/Zrmikstri/CS114.M21.KHCL.N07/blob/main/blur_license_plate_notebook.ipynb\" target=\"_parent\"><img src=\"https://colab.research.google.com/assets/colab-badge.svg\" alt=\"Open In Colab\"/></a>"
      ]
    },
    {
      "cell_type": "markdown",
      "source": [
        "# Step 1: Mount drive"
      ],
      "metadata": {
        "id": "Ho9omVTmT8Rp"
      }
    },
    {
      "cell_type": "code",
      "execution_count": null,
      "metadata": {
        "id": "bFJ2FBMJTcPx",
        "colab": {
          "base_uri": "https://localhost:8080/"
        },
        "outputId": "603a6d41-5e2b-42e6-fa6b-d05f71e7e43c"
      },
      "outputs": [
        {
          "output_type": "stream",
          "name": "stdout",
          "text": [
            "Drive already mounted at /content/drive; to attempt to forcibly remount, call drive.mount(\"/content/drive\", force_remount=True).\n"
          ]
        }
      ],
      "source": [
        "from google.colab import drive\n",
        "drive.mount('/content/drive')"
      ]
    },
    {
      "cell_type": "markdown",
      "source": [
        "# Step 2: Git clone project from github"
      ],
      "metadata": {
        "id": "qWfsKjGCUsK1"
      }
    },
    {
      "cell_type": "code",
      "source": [
        "!git clone https://github.com/Zrmikstri/CS114.M21.KHCL.N07"
      ],
      "metadata": {
        "colab": {
          "base_uri": "https://localhost:8080/"
        },
        "id": "B2K-HGc7U3Oo",
        "outputId": "d77f0d3e-0da8-4920-d1fd-87c0e8950230"
      },
      "execution_count": null,
      "outputs": [
        {
          "output_type": "stream",
          "name": "stdout",
          "text": [
            "Cloning into 'CS114.M21.KHCL.N07'...\n",
            "remote: Enumerating objects: 35, done.\u001b[K\n",
            "remote: Counting objects: 100% (35/35), done.\u001b[K\n",
            "remote: Compressing objects: 100% (23/23), done.\u001b[K\n",
            "remote: Total 35 (delta 9), reused 19 (delta 4), pack-reused 0\u001b[K\n",
            "Unpacking objects: 100% (35/35), done.\n"
          ]
        }
      ]
    },
    {
      "cell_type": "code",
      "source": [
        "# clone darknet repo\n",
        "!git clone https://github.com/AlexeyAB/darknet "
      ],
      "metadata": {
        "colab": {
          "base_uri": "https://localhost:8080/"
        },
        "id": "fZBJ6SxMTtw9",
        "outputId": "edddb6d4-d961-4037-9c81-87410da48e15"
      },
      "execution_count": null,
      "outputs": [
        {
          "output_type": "stream",
          "name": "stdout",
          "text": [
            "Cloning into 'darknet'...\n",
            "remote: Enumerating objects: 15424, done.\u001b[K\n",
            "remote: Counting objects: 100% (1/1), done.\u001b[K\n",
            "remote: Total 15424 (delta 0), reused 1 (delta 0), pack-reused 15423\u001b[K\n",
            "Receiving objects: 100% (15424/15424), 14.06 MiB | 25.03 MiB/s, done.\n",
            "Resolving deltas: 100% (10362/10362), done.\n"
          ]
        }
      ]
    },
    {
      "cell_type": "markdown",
      "source": [
        "# Step 3: Config file darknet and make darknet to run"
      ],
      "metadata": {
        "id": "ecBlCmpLTPWK"
      }
    },
    {
      "cell_type": "code",
      "source": [
        "%cd /content/darknet\n",
        "!sed -i 's/OPENCV=0/OPENCV=1/' Makefile\n",
        "!sed -i 's/GPU=0/GPU=1/' Makefile\n",
        "!sed -i 's/CUDNN=0/CUDNN=1/' Makefile\n",
        "!sed -i 's/CUDNN_HALF=0/CUDNN_HALF=1/' Makefile"
      ],
      "metadata": {
        "colab": {
          "base_uri": "https://localhost:8080/"
        },
        "id": "GA1mQv-_UFl5",
        "outputId": "a2e56513-a965-495a-d5f2-cfc7c2c4e614"
      },
      "execution_count": null,
      "outputs": [
        {
          "output_type": "stream",
          "name": "stdout",
          "text": [
            "/content/darknet\n"
          ]
        }
      ]
    },
    {
      "cell_type": "code",
      "source": [
        "# verify CUDA\n",
        "!/usr/local/cuda/bin/nvcc --version"
      ],
      "metadata": {
        "colab": {
          "base_uri": "https://localhost:8080/"
        },
        "id": "Ne8Vwe6UUffQ",
        "outputId": "c56d550c-5704-44ec-af41-db5cae4b3bf5"
      },
      "execution_count": null,
      "outputs": [
        {
          "output_type": "stream",
          "name": "stdout",
          "text": [
            "nvcc: NVIDIA (R) Cuda compiler driver\n",
            "Copyright (c) 2005-2020 NVIDIA Corporation\n",
            "Built on Mon_Oct_12_20:09:46_PDT_2020\n",
            "Cuda compilation tools, release 11.1, V11.1.105\n",
            "Build cuda_11.1.TC455_06.29190527_0\n"
          ]
        }
      ]
    },
    {
      "cell_type": "code",
      "source": [
        "!make"
      ],
      "metadata": {
        "id": "rksEhF0RUiFJ"
      },
      "execution_count": null,
      "outputs": []
    },
    {
      "cell_type": "markdown",
      "source": [
        "# Step 4: Copy weight and config file to darknet"
      ],
      "metadata": {
        "id": "_9I2CAqhTnzu"
      }
    },
    {
      "cell_type": "code",
      "source": [
        "!cp /content/drive/MyDrive/config_blur_license_plate/obj.data /content/darknet/data\n",
        "!cp /content/drive/MyDrive/config_blur_license_plate/obj.names /content/darknet/data\n",
        "!cp /content/drive/MyDrive/config_blur_license_plate/yolov4-obj.cfg /content/darknet/cfg\n",
        "!cp /content/drive/MyDrive/config_blur_license_plate/yolov4-obj_last.weights /content/darknet/backup"
      ],
      "metadata": {
        "id": "7ErbnW3dUjYE"
      },
      "execution_count": null,
      "outputs": []
    },
    {
      "cell_type": "markdown",
      "source": [
        "# Step 5: Find license plate location"
      ],
      "metadata": {
        "id": "Hl9bj7qITvmO"
      }
    },
    {
      "cell_type": "code",
      "source": [
        "%%capture cap\n",
        "!./darknet detector demo data/obj.data cfg/yolov4-obj.cfg backup/yolov4-obj_last.weights -dont_show /content/drive/MyDrive/VID_20220609_163429_670.mp4 -i 0 -out_filename /content/demo.mp4 -ext_output -thresh 0.5"
      ],
      "metadata": {
        "id": "2GDdlfViYlJY"
      },
      "execution_count": null,
      "outputs": []
    },
    {
      "cell_type": "code",
      "source": [
        "f = open(\"/content/output.txt\", \"w\") \n",
        "print(cap, file=f)\n",
        "f.close()"
      ],
      "metadata": {
        "id": "_upI6IgdZwsL"
      },
      "execution_count": null,
      "outputs": []
    },
    {
      "cell_type": "code",
      "source": [
        "!python /content/CS114.M21.KHCL.N07/blur_license_plate/read_text.py"
      ],
      "metadata": {
        "colab": {
          "base_uri": "https://localhost:8080/"
        },
        "id": "TdCF1wx4aTMc",
        "outputId": "daca7f8c-b0cc-470b-b5db-59bcc7ea67e2"
      },
      "execution_count": null,
      "outputs": [
        {
          "output_type": "stream",
          "name": "stdout",
          "text": [
            "     Frame  ... Height\n",
            "0        1  ...    NaN\n",
            "1        2  ...     60\n",
            "2        2  ...     38\n",
            "3        3  ...     40\n",
            "4        3  ...     59\n",
            "...    ...  ...    ...\n",
            "2605  1844  ...    100\n",
            "2606  1845  ...    129\n",
            "2607  1845  ...    103\n",
            "2608  1846  ...    127\n",
            "2609  1846  ...    100\n",
            "\n",
            "[2610 rows x 5 columns]\n"
          ]
        }
      ]
    },
    {
      "cell_type": "markdown",
      "source": [
        "# Step 6: Blur license plate and get video output"
      ],
      "metadata": {
        "id": "c1GrGGrXUGOl"
      }
    },
    {
      "cell_type": "code",
      "source": [
        "!python /content/CS114.M21.KHCL.N07/blur_license_plate/main.py --input_vid_path /content/drive/MyDrive/VID_20220609_163429_670.mp4"
      ],
      "metadata": {
        "colab": {
          "base_uri": "https://localhost:8080/"
        },
        "id": "BQi2M7VWa1gl",
        "outputId": "c2b68066-b18f-46f6-d73c-26d945d93519"
      },
      "execution_count": null,
      "outputs": [
        {
          "output_type": "stream",
          "name": "stdout",
          "text": [
            "FPS: 30\t 1920x1080\n",
            "Done\n"
          ]
        }
      ]
    },
    {
      "cell_type": "code",
      "source": [
        "!cp /content/output.avi /content/drive/MyDrive"
      ],
      "metadata": {
        "id": "xGPFwsqzbKxE"
      },
      "execution_count": null,
      "outputs": []
    }
  ]
}